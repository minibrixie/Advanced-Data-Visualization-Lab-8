{
  "nbformat": 4,
  "nbformat_minor": 0,
  "metadata": {
    "colab": {
      "provenance": [],
      "authorship_tag": "ABX9TyN1V5PKXHcRIq/fKhdcjZLU",
      "include_colab_link": true
    },
    "kernelspec": {
      "name": "python3",
      "display_name": "Python 3"
    },
    "language_info": {
      "name": "python"
    }
  },
  "cells": [
    {
      "cell_type": "markdown",
      "metadata": {
        "id": "view-in-github",
        "colab_type": "text"
      },
      "source": [
        "<a href=\"https://colab.research.google.com/github/minibrixie/Advanced-Data-Visualization-Lab-8/blob/main/Advanced_Data_Visualization_Lab_8.ipynb\" target=\"_parent\"><img src=\"https://colab.research.google.com/assets/colab-badge.svg\" alt=\"Open In Colab\"/></a>"
      ]
    },
    {
      "cell_type": "code",
      "execution_count": 3,
      "metadata": {
        "colab": {
          "base_uri": "https://localhost:8080/"
        },
        "id": "Z_wgmPCz16yP",
        "outputId": "130cf72e-40f0-46dc-9d60-8613f4618d8d"
      },
      "outputs": [
        {
          "output_type": "stream",
          "name": "stdout",
          "text": [
            "[3, True, 'Micheal', 2.0]\n"
          ]
        }
      ],
      "source": [
        "heterogenousElements = [3, True, 'Micheal', 2.0]\n",
        "print(heterogenousElements)"
      ]
    },
    {
      "cell_type": "code",
      "source": [
        "heterogenousElements[3]"
      ],
      "metadata": {
        "colab": {
          "base_uri": "https://localhost:8080/"
        },
        "id": "hNplYEGW4dVq",
        "outputId": "b0e92008-9f21-4439-80a1-7e6472df30f4"
      },
      "execution_count": 4,
      "outputs": [
        {
          "output_type": "execute_result",
          "data": {
            "text/plain": [
              "2.0"
            ]
          },
          "metadata": {},
          "execution_count": 4
        }
      ]
    },
    {
      "cell_type": "code",
      "source": [
        "heterogenousElements[-3]"
      ],
      "metadata": {
        "colab": {
          "base_uri": "https://localhost:8080/"
        },
        "id": "h2Ue9PQ2_gDt",
        "outputId": "3bb7325c-66eb-4ef0-df63-a9000021bcd6"
      },
      "execution_count": 5,
      "outputs": [
        {
          "output_type": "execute_result",
          "data": {
            "text/plain": [
              "True"
            ]
          },
          "metadata": {},
          "execution_count": 5
        }
      ]
    },
    {
      "cell_type": "code",
      "source": [
        "print(heterogenousElements[2])"
      ],
      "metadata": {
        "colab": {
          "base_uri": "https://localhost:8080/"
        },
        "id": "A0b2icWu_oDK",
        "outputId": "5b0c4ae3-108b-4fd4-d48b-2fc5b8f45f52"
      },
      "execution_count": 8,
      "outputs": [
        {
          "output_type": "stream",
          "name": "stdout",
          "text": [
            "Micheal\n"
          ]
        }
      ]
    },
    {
      "cell_type": "code",
      "source": [
        "heterogenousElements[:3]"
      ],
      "metadata": {
        "colab": {
          "base_uri": "https://localhost:8080/"
        },
        "id": "9zmFzvZ1_zMk",
        "outputId": "062df520-0c46-4103-baff-4fef9b2c55bb"
      },
      "execution_count": 9,
      "outputs": [
        {
          "output_type": "execute_result",
          "data": {
            "text/plain": [
              "[3, True, 'Micheal']"
            ]
          },
          "metadata": {},
          "execution_count": 9
        }
      ]
    },
    {
      "cell_type": "code",
      "source": [
        "heterogenousElements[2:3]"
      ],
      "metadata": {
        "colab": {
          "base_uri": "https://localhost:8080/"
        },
        "id": "bFpoxHfQ_2hf",
        "outputId": "de3ede12-f89f-444e-9cc2-a1187aa9c752"
      },
      "execution_count": 10,
      "outputs": [
        {
          "output_type": "execute_result",
          "data": {
            "text/plain": [
              "['Micheal']"
            ]
          },
          "metadata": {},
          "execution_count": 10
        }
      ]
    },
    {
      "cell_type": "code",
      "source": [
        "heterogenousElements[1:4]"
      ],
      "metadata": {
        "colab": {
          "base_uri": "https://localhost:8080/"
        },
        "id": "BtRQV0HSBxMk",
        "outputId": "e7fb31f4-9158-4cd4-ceec-ca30e423b003"
      },
      "execution_count": 11,
      "outputs": [
        {
          "output_type": "execute_result",
          "data": {
            "text/plain": [
              "[True, 'Micheal', 2.0]"
            ]
          },
          "metadata": {},
          "execution_count": 11
        }
      ]
    }
  ]
}